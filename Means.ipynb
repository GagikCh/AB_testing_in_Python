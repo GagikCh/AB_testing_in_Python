{
 "cells": [
  {
   "cell_type": "markdown",
   "metadata": {},
   "source": [
    "# Problem description"
   ]
  },
  {
   "cell_type": "markdown",
   "metadata": {},
   "source": [
    "Let's suppose you have to test 2 variants of a web page. You want to evaluate whether there is a difference between the two variants in terms of average time (in seconds) the users spend on the webpage before leaving.\n",
    "<br>The first one is yellow and the second one is blue. Everything else in the pages is the same. "
   ]
  },
  {
   "cell_type": "markdown",
   "metadata": {},
   "source": [
    "<img src=\"assets/AB_1.gif\" width=\"600\" height=\"600\">"
   ]
  },
  {
   "cell_type": "markdown",
   "metadata": {},
   "source": [
    "You design an A/B test, randomly assign the users to each treatment group and get the following results."
   ]
  },
  {
   "cell_type": "code",
   "execution_count": 1,
   "metadata": {},
   "outputs": [],
   "source": [
    "# As we don't have real data, let's randomly draw 200 from normal distribution.\n",
    "\n",
    "import numpy as np\n",
    "\n",
    "np.random.seed(50) # fixing the random seed\n",
    "\n",
    "data_for_A = np.random.normal(50, 15, 150)\n",
    "data_for_B = np.random.normal(55, 18, 150)"
   ]
  },
  {
   "cell_type": "code",
   "execution_count": 13,
   "metadata": {},
   "outputs": [
    {
     "data": {
      "image/png": "[encoded data removed]",
      "text/plain": [
       "<Figure size 1080x576 with 1 Axes>"
      ]
     },
     "metadata": {},
     "output_type": "display_data"
    }
   ],
   "source": [
    "import matplotlib.pyplot as plt\n",
    "\n",
    "plt.figure(figsize = (15,8))\n",
    "plt.hist(data_for_A, alpha = 0.5)\n",
    "plt.hist(data_for_B, alpha = 0.5);"
   ]
  },
  {
   "cell_type": "code",
   "execution_count": 3,
   "metadata": {},
   "outputs": [
    {
     "data": {
      "text/plain": [
       "(49.608801173968466, 15.780012437448667, 53.54222630248696, 17.64330862333175)"
      ]
     },
     "execution_count": 3,
     "metadata": {},
     "output_type": "execute_result"
    }
   ],
   "source": [
    "np.mean(data_for_A), np.std(data_for_A), np.mean(data_for_B), np.std(data_for_B)"
   ]
  },
  {
   "cell_type": "markdown",
   "metadata": {},
   "source": [
    "So we get the following results:\n",
    "\n",
    "* The page A was seen by 200 users with the following details: average time spent is 49.6, standard deviation: 15.78.\n",
    "* The page B was seen by 200 users with the following details: average time spent is 53.54, standard deviation: 17.64."
   ]
  },
  {
   "cell_type": "markdown",
   "metadata": {},
   "source": [
    "## Everything is ready to evaluate the results and see whether we have a winner or not.\n",
    "\n",
    "<br> Note that we are tempted to conclude that B is a winner as it has a higher average time spent on it (53.54sec vs 49.6sec). "
   ]
  },
  {
   "cell_type": "markdown",
   "metadata": {},
   "source": [
    "# Importing the dependencies"
   ]
  },
  {
   "cell_type": "code",
   "execution_count": 4,
   "metadata": {
    "scrolled": true
   },
   "outputs": [],
   "source": [
    "from AB import ABMean #custom class for evaluating the experiment results\n",
    "\n",
    "import warnings\n",
    "warnings.filterwarnings('ignore')"
   ]
  },
  {
   "cell_type": "markdown",
   "metadata": {},
   "source": [
    "### 1. Setting the control and treatment groups' data"
   ]
  },
  {
   "cell_type": "code",
   "execution_count": 5,
   "metadata": {
    "scrolled": true
   },
   "outputs": [],
   "source": [
    "data_c = data_for_A\n",
    "data_t = data_for_B"
   ]
  },
  {
   "cell_type": "markdown",
   "metadata": {},
   "source": [
    "### 2. Running the experiment"
   ]
  },
  {
   "cell_type": "code",
   "execution_count": 6,
   "metadata": {
    "scrolled": true
   },
   "outputs": [],
   "source": [
    "exp = ABMean(data_c, data_t) # custom values of alpha and power can be provided, defaults are 0.05 and 0.8"
   ]
  },
  {
   "cell_type": "markdown",
   "metadata": {},
   "source": [
    "### 3. Setting the baseline values and minimum detectable effects for minimum sample size calculations.\n",
    "\n",
    "Let's suppose, for us the baseline mean is 50 / mean of variant A.\n",
    "<br> And we are trying to detect whether variant B is at least 10% better than A."
   ]
  },
  {
   "cell_type": "code",
   "execution_count": 7,
   "metadata": {
    "scrolled": true
   },
   "outputs": [],
   "source": [
    "mean_c = np.mean(data_c)\n",
    "mean_t = np.mean(data_t)\n",
    "stdev_c = np.std(data_c)\n",
    "stdev_t = np.std(data_t)\n",
    "\n",
    "baseline_value = 50 # use <<baseline_value =mean_c>> to see how many users you need in each treatment group\n",
    "                      # to get a statistically significant difference and also desired level of statistical power\n",
    "\n",
    "min_det_effect = 0.1 # min_det_effect = mean_t/mean_c-1\n",
    "\n",
    "\n",
    "baseline_var = 15**2 # baseline_var = stdev_c**2\n",
    "treatment_var = 18**2 # treatment_var = stdev_t**2\n",
    "\n",
    "exp.baseline_value = baseline_value\n",
    "exp.min_det_effect = min_det_effect\n",
    "exp.baseline_var = baseline_var\n",
    "exp.treatment_var = treatment_var"
   ]
  },
  {
   "cell_type": "markdown",
   "metadata": {},
   "source": [
    "### 4. Displaying key stats of the experiment before running it (most importantly minimum sample size)."
   ]
  },
  {
   "cell_type": "code",
   "execution_count": 8,
   "metadata": {
    "scrolled": true
   },
   "outputs": [
    {
     "name": "stdout",
     "output_type": "stream",
     "text": [
      "=========================================\n",
      "Alpha:\t\t\t\t0.05\n",
      "Power:\t\t\t\t0.80\n",
      "Baseline value:\t\t\t50.0000000\n",
      "Minimum detectable effect:\t5.0000000\n",
      "Treatment value:\t\t55.0000000\n",
      "Minimum sample size:\t\t172\n",
      "=========================================\n"
     ]
    }
   ],
   "source": [
    "exp.pre_experiment_stats()"
   ]
  },
  {
   "cell_type": "markdown",
   "metadata": {},
   "source": [
    "As we see, we needed only 172 users in each group to get at least 80% statistical power."
   ]
  },
  {
   "cell_type": "code",
   "execution_count": 9,
   "metadata": {
    "scrolled": true
   },
   "outputs": [
    {
     "name": "stdout",
     "output_type": "stream",
     "text": [
      "=================================\n",
      "============ Control ============\n",
      "Sample size:\t\t150\n",
      "Value:\t\t\t49.6088012\n",
      "Standard deviation:\t15.7800124\n",
      "=================================\n",
      "=========== Treatment ===========\n",
      "Sample size:\t\t150\n",
      "Value:\t\t\t53.5422263\n",
      "Standard deviation:\t17.6433086\n"
     ]
    }
   ],
   "source": [
    "exp.return_sample_stats()"
   ]
  },
  {
   "cell_type": "markdown",
   "metadata": {},
   "source": [
    "### 5. Evaluating the experiment: Is the difference between groups statistically significant?"
   ]
  },
  {
   "cell_type": "code",
   "execution_count": 10,
   "metadata": {
    "scrolled": true
   },
   "outputs": [
    {
     "name": "stdout",
     "output_type": "stream",
     "text": [
      "p = 0.0418. We reject the Null hypothesis. The difference is statistically significant on significance level: 95%.\n",
      "===============================================\n",
      "test statistic:\t\t\t\t2.0352\n",
      "Degrees of freedom:\t\t\t298\n",
      "p-value (Probability of Type I error):\t0.0418\n",
      "Alpha:\t\t\t\t\t0.05\n",
      "Beta (Probability of Type II error):\t0.4700\n",
      "Power:\t\t\t\t\t0.5300\n",
      "===============================================\n"
     ]
    }
   ],
   "source": [
    "exp.hypothesis_summary()"
   ]
  },
  {
   "cell_type": "markdown",
   "metadata": {},
   "source": [
    "As we see, we barely get a statistically significant result, so we should be very very cautious with our conclusions. And 53% power is not satisfactory for us, so my advice is to wait and collect more data.\n",
    "<br> The result is more shaky, if you are making more than one comparisons. You should make appropriate adjustments (e.g. bonferroni corrections) and set more strict thresholds for alpha and beta. "
   ]
  },
  {
   "cell_type": "code",
   "execution_count": 11,
   "metadata": {
    "scrolled": false
   },
   "outputs": [
    {
     "data": {
      "image/png": "[encoded data removed]",
      "text/plain": [
       "<Figure size 1080x576 with 1 Axes>"
      ]
     },
     "metadata": {},
     "output_type": "display_data"
    }
   ],
   "source": [
    "exp.plot_hypothesis_distributions(green_line = True, blue_line=True) # green line - 95% percentile of the Null hypothesis,\n",
    "                                                                     # blue line - the difference between groups"
   ]
  },
  {
   "cell_type": "code",
   "execution_count": 12,
   "metadata": {
    "scrolled": false
   },
   "outputs": [
    {
     "data": {
      "image/png": "[encoded data removed]",
      "text/plain": [
       "<Figure size 1080x576 with 1 Axes>"
      ]
     },
     "metadata": {},
     "output_type": "display_data"
    }
   ],
   "source": [
    "exp.plot_groups_distributions()"
   ]
  }
 ],
 "metadata": {
  "kernelspec": {
   "display_name": "Python 3",
   "language": "python",
   "name": "python3"
  },
  "language_info": {
   "codemirror_mode": {
    "name": "ipython",
    "version": 3
   },
   "file_extension": ".py",
   "mimetype": "text/x-python",
   "name": "python",
   "nbconvert_exporter": "python",
   "pygments_lexer": "ipython3",
   "version": "3.7.1"
  }
 },
 "nbformat": 4,
 "nbformat_minor": 2
}
